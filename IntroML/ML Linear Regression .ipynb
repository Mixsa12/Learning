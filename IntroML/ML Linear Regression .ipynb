{
 "cells": [
  {
   "cell_type": "code",
   "execution_count": 3,
   "metadata": {
    "collapsed": true
   },
   "outputs": [],
   "source": [
    "import sklearn\n",
    "import numpy as np\n",
    "import pandas as pd\n",
    "from pandas import Series,DataFrame\n",
    "import seaborn as sns\n",
    "import matplotlib.pyplot as plt\n",
    "%matplotlib inline"
   ]
  },
  {
   "cell_type": "code",
   "execution_count": 4,
   "metadata": {
    "collapsed": true
   },
   "outputs": [],
   "source": [
    "from sklearn.datasets import load_boston"
   ]
  },
  {
   "cell_type": "code",
   "execution_count": 5,
   "metadata": {
    "collapsed": true
   },
   "outputs": [],
   "source": [
    "boston= load_boston()"
   ]
  },
  {
   "cell_type": "code",
   "execution_count": 6,
   "metadata": {},
   "outputs": [
    {
     "data": {
      "text/plain": [
       "\"Boston House Prices dataset\\n===========================\\n\\nNotes\\n------\\nData Set Characteristics:  \\n\\n    :Number of Instances: 506 \\n\\n    :Number of Attributes: 13 numeric/categorical predictive\\n    \\n    :Median Value (attribute 14) is usually the target\\n\\n    :Attribute Information (in order):\\n        - CRIM     per capita crime rate by town\\n        - ZN       proportion of residential land zoned for lots over 25,000 sq.ft.\\n        - INDUS    proportion of non-retail business acres per town\\n        - CHAS     Charles River dummy variable (= 1 if tract bounds river; 0 otherwise)\\n        - NOX      nitric oxides concentration (parts per 10 million)\\n        - RM       average number of rooms per dwelling\\n        - AGE      proportion of owner-occupied units built prior to 1940\\n        - DIS      weighted distances to five Boston employment centres\\n        - RAD      index of accessibility to radial highways\\n        - TAX      full-value property-tax rate per $10,000\\n        - PTRATIO  pupil-teacher ratio by town\\n        - B        1000(Bk - 0.63)^2 where Bk is the proportion of blacks by town\\n        - LSTAT    % lower status of the population\\n        - MEDV     Median value of owner-occupied homes in $1000's\\n\\n    :Missing Attribute Values: None\\n\\n    :Creator: Harrison, D. and Rubinfeld, D.L.\\n\\nThis is a copy of UCI ML housing dataset.\\nhttp://archive.ics.uci.edu/ml/datasets/Housing\\n\\n\\nThis dataset was taken from the StatLib library which is maintained at Carnegie Mellon University.\\n\\nThe Boston house-price data of Harrison, D. and Rubinfeld, D.L. 'Hedonic\\nprices and the demand for clean air', J. Environ. Economics & Management,\\nvol.5, 81-102, 1978.   Used in Belsley, Kuh & Welsch, 'Regression diagnostics\\n...', Wiley, 1980.   N.B. Various transformations are used in the table on\\npages 244-261 of the latter.\\n\\nThe Boston house-price data has been used in many machine learning papers that address regression\\nproblems.   \\n     \\n**References**\\n\\n   - Belsley, Kuh & Welsch, 'Regression diagnostics: Identifying Influential Data and Sources of Collinearity', Wiley, 1980. 244-261.\\n   - Quinlan,R. (1993). Combining Instance-Based and Model-Based Learning. In Proceedings on the Tenth International Conference of Machine Learning, 236-243, University of Massachusetts, Amherst. Morgan Kaufmann.\\n   - many more! (see http://archive.ics.uci.edu/ml/datasets/Housing)\\n\""
      ]
     },
     "execution_count": 6,
     "metadata": {},
     "output_type": "execute_result"
    }
   ],
   "source": [
    "boston.DESCR"
   ]
  },
  {
   "cell_type": "code",
   "execution_count": 7,
   "metadata": {},
   "outputs": [
    {
     "data": {
      "text/plain": [
       "Text(0.5,0,'number')"
      ]
     },
     "execution_count": 7,
     "metadata": {},
     "output_type": "execute_result"
    },
    {
     "data": {
      "image/png": "[encoded data removed]",
      "text/plain": [
       "<matplotlib.figure.Figure at 0x24034e86240>"
      ]
     },
     "metadata": {},
     "output_type": "display_data"
    }
   ],
   "source": [
    "plt.hist(boston.target, bins= 50)\n",
    "plt.xlabel(\"number\")"
   ]
  },
  {
   "cell_type": "code",
   "execution_count": 8,
   "metadata": {},
   "outputs": [
    {
     "data": {
      "text/plain": [
       "Text(0,0.5,'price in $1000')"
      ]
     },
     "execution_count": 8,
     "metadata": {},
     "output_type": "execute_result"
    },
    {
     "data": {
      "image/png": "[encoded data removed]",
      "text/plain": [
       "<matplotlib.figure.Figure at 0x24034f40358>"
      ]
     },
     "metadata": {},
     "output_type": "display_data"
    }
   ],
   "source": [
    "plt.scatter(boston.data[:,5],boston.target)\n",
    "plt.xlabel(\"number of rooms\")\n",
    "plt.ylabel(\"price in $1000\")"
   ]
  },
  {
   "cell_type": "code",
   "execution_count": 9,
   "metadata": {
    "collapsed": true
   },
   "outputs": [],
   "source": [
    "boston_df = DataFrame(boston.data)"
   ]
  },
  {
   "cell_type": "code",
   "execution_count": 10,
   "metadata": {
    "collapsed": true
   },
   "outputs": [],
   "source": [
    "boston_df.columns = boston.feature_names"
   ]
  },
  {
   "cell_type": "code",
   "execution_count": 11,
   "metadata": {},
   "outputs": [
    {
     "data": {
      "text/html": [
       "<div>\n",
       "<style>\n",
       "    .dataframe thead tr:only-child th {\n",
       "        text-align: right;\n",
       "    }\n",
       "\n",
       "    .dataframe thead th {\n",
       "        text-align: left;\n",
       "    }\n",
       "\n",
       "    .dataframe tbody tr th {\n",
       "        vertical-align: top;\n",
       "    }\n",
       "</style>\n",
       "<table border=\"1\" class=\"dataframe\">\n",
       "  <thead>\n",
       "    <tr style=\"text-align: right;\">\n",
       "      <th></th>\n",
       "      <th>CRIM</th>\n",
       "      <th>ZN</th>\n",
       "      <th>INDUS</th>\n",
       "      <th>CHAS</th>\n",
       "      <th>NOX</th>\n",
       "      <th>RM</th>\n",
       "      <th>AGE</th>\n",
       "      <th>DIS</th>\n",
       "      <th>RAD</th>\n",
       "      <th>TAX</th>\n",
       "      <th>PTRATIO</th>\n",
       "      <th>B</th>\n",
       "      <th>LSTAT</th>\n",
       "    </tr>\n",
       "  </thead>\n",
       "  <tbody>\n",
       "    <tr>\n",
       "      <th>0</th>\n",
       "      <td>0.00632</td>\n",
       "      <td>18.0</td>\n",
       "      <td>2.31</td>\n",
       "      <td>0.0</td>\n",
       "      <td>0.538</td>\n",
       "      <td>6.575</td>\n",
       "      <td>65.2</td>\n",
       "      <td>4.0900</td>\n",
       "      <td>1.0</td>\n",
       "      <td>296.0</td>\n",
       "      <td>15.3</td>\n",
       "      <td>396.90</td>\n",
       "      <td>4.98</td>\n",
       "    </tr>\n",
       "    <tr>\n",
       "      <th>1</th>\n",
       "      <td>0.02731</td>\n",
       "      <td>0.0</td>\n",
       "      <td>7.07</td>\n",
       "      <td>0.0</td>\n",
       "      <td>0.469</td>\n",
       "      <td>6.421</td>\n",
       "      <td>78.9</td>\n",
       "      <td>4.9671</td>\n",
       "      <td>2.0</td>\n",
       "      <td>242.0</td>\n",
       "      <td>17.8</td>\n",
       "      <td>396.90</td>\n",
       "      <td>9.14</td>\n",
       "    </tr>\n",
       "    <tr>\n",
       "      <th>2</th>\n",
       "      <td>0.02729</td>\n",
       "      <td>0.0</td>\n",
       "      <td>7.07</td>\n",
       "      <td>0.0</td>\n",
       "      <td>0.469</td>\n",
       "      <td>7.185</td>\n",
       "      <td>61.1</td>\n",
       "      <td>4.9671</td>\n",
       "      <td>2.0</td>\n",
       "      <td>242.0</td>\n",
       "      <td>17.8</td>\n",
       "      <td>392.83</td>\n",
       "      <td>4.03</td>\n",
       "    </tr>\n",
       "    <tr>\n",
       "      <th>3</th>\n",
       "      <td>0.03237</td>\n",
       "      <td>0.0</td>\n",
       "      <td>2.18</td>\n",
       "      <td>0.0</td>\n",
       "      <td>0.458</td>\n",
       "      <td>6.998</td>\n",
       "      <td>45.8</td>\n",
       "      <td>6.0622</td>\n",
       "      <td>3.0</td>\n",
       "      <td>222.0</td>\n",
       "      <td>18.7</td>\n",
       "      <td>394.63</td>\n",
       "      <td>2.94</td>\n",
       "    </tr>\n",
       "    <tr>\n",
       "      <th>4</th>\n",
       "      <td>0.06905</td>\n",
       "      <td>0.0</td>\n",
       "      <td>2.18</td>\n",
       "      <td>0.0</td>\n",
       "      <td>0.458</td>\n",
       "      <td>7.147</td>\n",
       "      <td>54.2</td>\n",
       "      <td>6.0622</td>\n",
       "      <td>3.0</td>\n",
       "      <td>222.0</td>\n",
       "      <td>18.7</td>\n",
       "      <td>396.90</td>\n",
       "      <td>5.33</td>\n",
       "    </tr>\n",
       "  </tbody>\n",
       "</table>\n",
       "</div>"
      ],
      "text/plain": [
       "      CRIM    ZN  INDUS  CHAS    NOX     RM   AGE     DIS  RAD    TAX  \\\n",
       "0  0.00632  18.0   2.31   0.0  0.538  6.575  65.2  4.0900  1.0  296.0   \n",
       "1  0.02731   0.0   7.07   0.0  0.469  6.421  78.9  4.9671  2.0  242.0   \n",
       "2  0.02729   0.0   7.07   0.0  0.469  7.185  61.1  4.9671  2.0  242.0   \n",
       "3  0.03237   0.0   2.18   0.0  0.458  6.998  45.8  6.0622  3.0  222.0   \n",
       "4  0.06905   0.0   2.18   0.0  0.458  7.147  54.2  6.0622  3.0  222.0   \n",
       "\n",
       "   PTRATIO       B  LSTAT  \n",
       "0     15.3  396.90   4.98  \n",
       "1     17.8  396.90   9.14  \n",
       "2     17.8  392.83   4.03  \n",
       "3     18.7  394.63   2.94  \n",
       "4     18.7  396.90   5.33  "
      ]
     },
     "execution_count": 11,
     "metadata": {},
     "output_type": "execute_result"
    }
   ],
   "source": [
    "boston_df.head()"
   ]
  },
  {
   "cell_type": "code",
   "execution_count": 12,
   "metadata": {
    "collapsed": true
   },
   "outputs": [],
   "source": [
    "boston_df[\"Price\"]= boston.target"
   ]
  },
  {
   "cell_type": "code",
   "execution_count": 13,
   "metadata": {},
   "outputs": [
    {
     "name": "stderr",
     "output_type": "stream",
     "text": [
      "C:\\Users\\Samix\\Anaconda3\\lib\\site-packages\\scipy\\stats\\stats.py:1713: FutureWarning: Using a non-tuple sequence for multidimensional indexing is deprecated; use `arr[tuple(seq)]` instead of `arr[seq]`. In the future this will be interpreted as an array index, `arr[np.array(seq)]`, which will result either in an error or a different result.\n",
      "  return np.add.reduce(sorted[indexer] * weights, axis=axis) / sumval\n"
     ]
    },
    {
     "data": {
      "text/plain": [
       "<seaborn.axisgrid.FacetGrid at 0x24035118588>"
      ]
     },
     "execution_count": 13,
     "metadata": {},
     "output_type": "execute_result"
    },
    {
     "data": {
      "image/png": "[encoded data removed]",
      "text/plain": [
       "<matplotlib.figure.Figure at 0x24034f98da0>"
      ]
     },
     "metadata": {},
     "output_type": "display_data"
    }
   ],
   "source": [
    "sns.lmplot('RM', 'Price', data= boston_df )"
   ]
  },
  {
   "cell_type": "code",
   "execution_count": 14,
   "metadata": {
    "collapsed": true
   },
   "outputs": [],
   "source": [
    "x = boston_df.RM"
   ]
  },
  {
   "cell_type": "code",
   "execution_count": 15,
   "metadata": {
    "collapsed": true
   },
   "outputs": [],
   "source": [
    "#x= np.vstack(x)"
   ]
  },
  {
   "cell_type": "code",
   "execution_count": 16,
   "metadata": {
    "collapsed": true
   },
   "outputs": [],
   "source": [
    "y = boston_df.Price"
   ]
  },
  {
   "cell_type": "code",
   "execution_count": 17,
   "metadata": {
    "collapsed": true
   },
   "outputs": [],
   "source": [
    "x = np.array( [[v,1] for v in x])"
   ]
  },
  {
   "cell_type": "code",
   "execution_count": 18,
   "metadata": {},
   "outputs": [
    {
     "data": {
      "text/plain": [
       "array([[6.575, 1.   ],\n",
       "       [6.421, 1.   ],\n",
       "       [7.185, 1.   ],\n",
       "       ...,\n",
       "       [6.976, 1.   ],\n",
       "       [6.794, 1.   ],\n",
       "       [6.03 , 1.   ]])"
      ]
     },
     "execution_count": 18,
     "metadata": {},
     "output_type": "execute_result"
    }
   ],
   "source": [
    "x"
   ]
  },
  {
   "cell_type": "code",
   "execution_count": 19,
   "metadata": {},
   "outputs": [
    {
     "name": "stderr",
     "output_type": "stream",
     "text": [
      "C:\\Users\\Samix\\Anaconda3\\lib\\site-packages\\ipykernel_launcher.py:1: FutureWarning: `rcond` parameter will change to the default of machine precision times ``max(M, N)`` where M and N are the input matrix dimensions.\n",
      "To use the future default and silence this warning we advise to pass `rcond=None`, to keep using the old, explicitly pass `rcond=-1`.\n",
      "  \"\"\"Entry point for launching an IPython kernel.\n"
     ]
    }
   ],
   "source": [
    "m, b = np.linalg.lstsq(x,y)[0]"
   ]
  },
  {
   "cell_type": "code",
   "execution_count": 20,
   "metadata": {},
   "outputs": [
    {
     "data": {
      "text/plain": [
       "[<matplotlib.lines.Line2D at 0x24031980da0>,\n",
       " <matplotlib.lines.Line2D at 0x240354cdef0>]"
      ]
     },
     "execution_count": 20,
     "metadata": {},
     "output_type": "execute_result"
    },
    {
     "data": {
      "image/png": "[encoded data removed]",
      "text/plain": [
       "<matplotlib.figure.Figure at 0x2403516c198>"
      ]
     },
     "metadata": {},
     "output_type": "display_data"
    }
   ],
   "source": [
    "plt.plot(boston_df.RM, boston_df.Price,\"o\")\n",
    "x2= boston_df.RM\n",
    "\n",
    "plt.plot(x2, m*x + b, \"r\" )"
   ]
  },
  {
   "cell_type": "code",
   "execution_count": 21,
   "metadata": {},
   "outputs": [
    {
     "name": "stderr",
     "output_type": "stream",
     "text": [
      "C:\\Users\\Samix\\Anaconda3\\lib\\site-packages\\ipykernel_launcher.py:1: FutureWarning: `rcond` parameter will change to the default of machine precision times ``max(M, N)`` where M and N are the input matrix dimensions.\n",
      "To use the future default and silence this warning we advise to pass `rcond=None`, to keep using the old, explicitly pass `rcond=-1`.\n",
      "  \"\"\"Entry point for launching an IPython kernel.\n"
     ]
    }
   ],
   "source": [
    "result = np.linalg.lstsq(x,y)"
   ]
  },
  {
   "cell_type": "code",
   "execution_count": 22,
   "metadata": {
    "collapsed": true
   },
   "outputs": [],
   "source": [
    "error_total = result[1]"
   ]
  },
  {
   "cell_type": "code",
   "execution_count": 23,
   "metadata": {
    "collapsed": true
   },
   "outputs": [],
   "source": [
    "rmse =np.sqrt(error_total /len(x))"
   ]
  },
  {
   "cell_type": "code",
   "execution_count": 24,
   "metadata": {},
   "outputs": [
    {
     "data": {
      "text/plain": [
       "array([6.60307139])"
      ]
     },
     "execution_count": 24,
     "metadata": {},
     "output_type": "execute_result"
    }
   ],
   "source": [
    "rmse"
   ]
  },
  {
   "cell_type": "code",
   "execution_count": 53,
   "metadata": {
    "collapsed": true
   },
   "outputs": [],
   "source": [
    "from sklearn.linear_model import LinearRegression\n",
    "lreg = LinearRegression()"
   ]
  },
  {
   "cell_type": "code",
   "execution_count": 26,
   "metadata": {},
   "outputs": [
    {
     "data": {
      "text/html": [
       "<div>\n",
       "<style>\n",
       "    .dataframe thead tr:only-child th {\n",
       "        text-align: right;\n",
       "    }\n",
       "\n",
       "    .dataframe thead th {\n",
       "        text-align: left;\n",
       "    }\n",
       "\n",
       "    .dataframe tbody tr th {\n",
       "        vertical-align: top;\n",
       "    }\n",
       "</style>\n",
       "<table border=\"1\" class=\"dataframe\">\n",
       "  <thead>\n",
       "    <tr style=\"text-align: right;\">\n",
       "      <th></th>\n",
       "      <th>CRIM</th>\n",
       "      <th>ZN</th>\n",
       "      <th>INDUS</th>\n",
       "      <th>CHAS</th>\n",
       "      <th>NOX</th>\n",
       "      <th>RM</th>\n",
       "      <th>AGE</th>\n",
       "      <th>DIS</th>\n",
       "      <th>RAD</th>\n",
       "      <th>TAX</th>\n",
       "      <th>PTRATIO</th>\n",
       "      <th>B</th>\n",
       "      <th>LSTAT</th>\n",
       "      <th>Price</th>\n",
       "    </tr>\n",
       "  </thead>\n",
       "  <tbody>\n",
       "    <tr>\n",
       "      <th>0</th>\n",
       "      <td>0.00632</td>\n",
       "      <td>18.0</td>\n",
       "      <td>2.31</td>\n",
       "      <td>0.0</td>\n",
       "      <td>0.538</td>\n",
       "      <td>6.575</td>\n",
       "      <td>65.2</td>\n",
       "      <td>4.0900</td>\n",
       "      <td>1.0</td>\n",
       "      <td>296.0</td>\n",
       "      <td>15.3</td>\n",
       "      <td>396.90</td>\n",
       "      <td>4.98</td>\n",
       "      <td>24.0</td>\n",
       "    </tr>\n",
       "    <tr>\n",
       "      <th>1</th>\n",
       "      <td>0.02731</td>\n",
       "      <td>0.0</td>\n",
       "      <td>7.07</td>\n",
       "      <td>0.0</td>\n",
       "      <td>0.469</td>\n",
       "      <td>6.421</td>\n",
       "      <td>78.9</td>\n",
       "      <td>4.9671</td>\n",
       "      <td>2.0</td>\n",
       "      <td>242.0</td>\n",
       "      <td>17.8</td>\n",
       "      <td>396.90</td>\n",
       "      <td>9.14</td>\n",
       "      <td>21.6</td>\n",
       "    </tr>\n",
       "    <tr>\n",
       "      <th>2</th>\n",
       "      <td>0.02729</td>\n",
       "      <td>0.0</td>\n",
       "      <td>7.07</td>\n",
       "      <td>0.0</td>\n",
       "      <td>0.469</td>\n",
       "      <td>7.185</td>\n",
       "      <td>61.1</td>\n",
       "      <td>4.9671</td>\n",
       "      <td>2.0</td>\n",
       "      <td>242.0</td>\n",
       "      <td>17.8</td>\n",
       "      <td>392.83</td>\n",
       "      <td>4.03</td>\n",
       "      <td>34.7</td>\n",
       "    </tr>\n",
       "    <tr>\n",
       "      <th>3</th>\n",
       "      <td>0.03237</td>\n",
       "      <td>0.0</td>\n",
       "      <td>2.18</td>\n",
       "      <td>0.0</td>\n",
       "      <td>0.458</td>\n",
       "      <td>6.998</td>\n",
       "      <td>45.8</td>\n",
       "      <td>6.0622</td>\n",
       "      <td>3.0</td>\n",
       "      <td>222.0</td>\n",
       "      <td>18.7</td>\n",
       "      <td>394.63</td>\n",
       "      <td>2.94</td>\n",
       "      <td>33.4</td>\n",
       "    </tr>\n",
       "    <tr>\n",
       "      <th>4</th>\n",
       "      <td>0.06905</td>\n",
       "      <td>0.0</td>\n",
       "      <td>2.18</td>\n",
       "      <td>0.0</td>\n",
       "      <td>0.458</td>\n",
       "      <td>7.147</td>\n",
       "      <td>54.2</td>\n",
       "      <td>6.0622</td>\n",
       "      <td>3.0</td>\n",
       "      <td>222.0</td>\n",
       "      <td>18.7</td>\n",
       "      <td>396.90</td>\n",
       "      <td>5.33</td>\n",
       "      <td>36.2</td>\n",
       "    </tr>\n",
       "  </tbody>\n",
       "</table>\n",
       "</div>"
      ],
      "text/plain": [
       "      CRIM    ZN  INDUS  CHAS    NOX     RM   AGE     DIS  RAD    TAX  \\\n",
       "0  0.00632  18.0   2.31   0.0  0.538  6.575  65.2  4.0900  1.0  296.0   \n",
       "1  0.02731   0.0   7.07   0.0  0.469  6.421  78.9  4.9671  2.0  242.0   \n",
       "2  0.02729   0.0   7.07   0.0  0.469  7.185  61.1  4.9671  2.0  242.0   \n",
       "3  0.03237   0.0   2.18   0.0  0.458  6.998  45.8  6.0622  3.0  222.0   \n",
       "4  0.06905   0.0   2.18   0.0  0.458  7.147  54.2  6.0622  3.0  222.0   \n",
       "\n",
       "   PTRATIO       B  LSTAT  Price  \n",
       "0     15.3  396.90   4.98   24.0  \n",
       "1     17.8  396.90   9.14   21.6  \n",
       "2     17.8  392.83   4.03   34.7  \n",
       "3     18.7  394.63   2.94   33.4  \n",
       "4     18.7  396.90   5.33   36.2  "
      ]
     },
     "execution_count": 26,
     "metadata": {},
     "output_type": "execute_result"
    }
   ],
   "source": [
    "boston_df.head()"
   ]
  },
  {
   "cell_type": "code",
   "execution_count": 27,
   "metadata": {},
   "outputs": [
    {
     "data": {
      "text/plain": [
       "LinearRegression(copy_X=True, fit_intercept=True, n_jobs=1, normalize=False)"
      ]
     },
     "execution_count": 27,
     "metadata": {},
     "output_type": "execute_result"
    }
   ],
   "source": [
    "lreg.fit(boston_df.drop(\"Price\",1), boston_df.Price)"
   ]
  },
  {
   "cell_type": "raw",
   "metadata": {},
   "source": [
    "lreg.help()"
   ]
  },
  {
   "cell_type": "code",
   "execution_count": 28,
   "metadata": {},
   "outputs": [
    {
     "data": {
      "text/plain": [
       "36.491103280361656"
      ]
     },
     "execution_count": 28,
     "metadata": {},
     "output_type": "execute_result"
    }
   ],
   "source": [
    "lreg.intercept_ "
   ]
  },
  {
   "cell_type": "code",
   "execution_count": 29,
   "metadata": {},
   "outputs": [
    {
     "data": {
      "text/plain": [
       "array([-1.07170557e-01,  4.63952195e-02,  2.08602395e-02,  2.68856140e+00,\n",
       "       -1.77957587e+01,  3.80475246e+00,  7.51061703e-04, -1.47575880e+00,\n",
       "        3.05655038e-01, -1.23293463e-02, -9.53463555e-01,  9.39251272e-03,\n",
       "       -5.25466633e-01])"
      ]
     },
     "execution_count": 29,
     "metadata": {},
     "output_type": "execute_result"
    }
   ],
   "source": [
    "lreg.coef_ "
   ]
  },
  {
   "cell_type": "code",
   "execution_count": 30,
   "metadata": {},
   "outputs": [
    {
     "data": {
      "text/html": [
       "<div>\n",
       "<style>\n",
       "    .dataframe thead tr:only-child th {\n",
       "        text-align: right;\n",
       "    }\n",
       "\n",
       "    .dataframe thead th {\n",
       "        text-align: left;\n",
       "    }\n",
       "\n",
       "    .dataframe tbody tr th {\n",
       "        vertical-align: top;\n",
       "    }\n",
       "</style>\n",
       "<table border=\"1\" class=\"dataframe\">\n",
       "  <thead>\n",
       "    <tr style=\"text-align: right;\">\n",
       "      <th></th>\n",
       "      <th>Features</th>\n",
       "      <th>Coef Estimates</th>\n",
       "    </tr>\n",
       "  </thead>\n",
       "  <tbody>\n",
       "    <tr>\n",
       "      <th>0</th>\n",
       "      <td>CRIM</td>\n",
       "      <td>-0.107171</td>\n",
       "    </tr>\n",
       "    <tr>\n",
       "      <th>1</th>\n",
       "      <td>ZN</td>\n",
       "      <td>0.046395</td>\n",
       "    </tr>\n",
       "    <tr>\n",
       "      <th>2</th>\n",
       "      <td>INDUS</td>\n",
       "      <td>0.020860</td>\n",
       "    </tr>\n",
       "    <tr>\n",
       "      <th>3</th>\n",
       "      <td>CHAS</td>\n",
       "      <td>2.688561</td>\n",
       "    </tr>\n",
       "    <tr>\n",
       "      <th>4</th>\n",
       "      <td>NOX</td>\n",
       "      <td>-17.795759</td>\n",
       "    </tr>\n",
       "    <tr>\n",
       "      <th>5</th>\n",
       "      <td>RM</td>\n",
       "      <td>3.804752</td>\n",
       "    </tr>\n",
       "    <tr>\n",
       "      <th>6</th>\n",
       "      <td>AGE</td>\n",
       "      <td>0.000751</td>\n",
       "    </tr>\n",
       "    <tr>\n",
       "      <th>7</th>\n",
       "      <td>DIS</td>\n",
       "      <td>-1.475759</td>\n",
       "    </tr>\n",
       "    <tr>\n",
       "      <th>8</th>\n",
       "      <td>RAD</td>\n",
       "      <td>0.305655</td>\n",
       "    </tr>\n",
       "    <tr>\n",
       "      <th>9</th>\n",
       "      <td>TAX</td>\n",
       "      <td>-0.012329</td>\n",
       "    </tr>\n",
       "    <tr>\n",
       "      <th>10</th>\n",
       "      <td>PTRATIO</td>\n",
       "      <td>-0.953464</td>\n",
       "    </tr>\n",
       "    <tr>\n",
       "      <th>11</th>\n",
       "      <td>B</td>\n",
       "      <td>0.009393</td>\n",
       "    </tr>\n",
       "    <tr>\n",
       "      <th>12</th>\n",
       "      <td>LSTAT</td>\n",
       "      <td>-0.525467</td>\n",
       "    </tr>\n",
       "  </tbody>\n",
       "</table>\n",
       "</div>"
      ],
      "text/plain": [
       "   Features  Coef Estimates\n",
       "0      CRIM       -0.107171\n",
       "1        ZN        0.046395\n",
       "2     INDUS        0.020860\n",
       "3      CHAS        2.688561\n",
       "4       NOX      -17.795759\n",
       "5        RM        3.804752\n",
       "6       AGE        0.000751\n",
       "7       DIS       -1.475759\n",
       "8       RAD        0.305655\n",
       "9       TAX       -0.012329\n",
       "10  PTRATIO       -0.953464\n",
       "11        B        0.009393\n",
       "12    LSTAT       -0.525467"
      ]
     },
     "execution_count": 30,
     "metadata": {},
     "output_type": "execute_result"
    }
   ],
   "source": [
    "coef_df = DataFrame(boston_df.drop(\"Price\",1).columns)\n",
    "coef_df.columns = [\"Features\"]\n",
    "coef_df [\"Coef Estimates\"]=  lreg.coef_ \n",
    "\n",
    "coef_df"
   ]
  },
  {
   "cell_type": "code",
   "execution_count": 31,
   "metadata": {},
   "outputs": [],
   "source": [
    "from  sklearn import  cross_validation\n",
    "\n",
    "X_train, X_test, Y_train, Y_test= sklearn.cross_validation.train_test_split(x, boston_df.Price)"
   ]
  },
  {
   "cell_type": "code",
   "execution_count": 32,
   "metadata": {},
   "outputs": [
    {
     "data": {
      "text/plain": [
       "array([[6.98 , 1.   ],\n",
       "       [6.041, 1.   ],\n",
       "       [5.928, 1.   ],\n",
       "       [6.185, 1.   ],\n",
       "       [8.266, 1.   ],\n",
       "       [8.297, 1.   ],\n",
       "       [5.898, 1.   ],\n",
       "       [6.749, 1.   ],\n",
       "       [5.987, 1.   ],\n",
       "       [7.041, 1.   ],\n",
       "       [6.24 , 1.   ],\n",
       "       [5.344, 1.   ],\n",
       "       [5.961, 1.   ],\n",
       "       [6.279, 1.   ],\n",
       "       [5.594, 1.   ],\n",
       "       [6.696, 1.   ],\n",
       "       [3.561, 1.   ],\n",
       "       [6.083, 1.   ],\n",
       "       [5.39 , 1.   ],\n",
       "       [6.715, 1.   ],\n",
       "       [4.138, 1.   ],\n",
       "       [5.706, 1.   ],\n",
       "       [5.813, 1.   ],\n",
       "       [6.874, 1.   ],\n",
       "       [5.983, 1.   ],\n",
       "       [6.458, 1.   ],\n",
       "       [6.812, 1.   ],\n",
       "       [6.487, 1.   ],\n",
       "       [6.442, 1.   ],\n",
       "       [6.003, 1.   ],\n",
       "       [4.88 , 1.   ],\n",
       "       [6.095, 1.   ],\n",
       "       [5.99 , 1.   ],\n",
       "       [5.926, 1.   ],\n",
       "       [6.59 , 1.   ],\n",
       "       [5.628, 1.   ],\n",
       "       [6.389, 1.   ],\n",
       "       [5.39 , 1.   ],\n",
       "       [6.129, 1.   ],\n",
       "       [6.286, 1.   ],\n",
       "       [6.335, 1.   ],\n",
       "       [5.637, 1.   ],\n",
       "       [5.985, 1.   ],\n",
       "       [6.824, 1.   ],\n",
       "       [5.707, 1.   ],\n",
       "       [7.686, 1.   ],\n",
       "       [5.927, 1.   ],\n",
       "       [5.403, 1.   ],\n",
       "       [5.876, 1.   ],\n",
       "       [7.853, 1.   ],\n",
       "       [6.059, 1.   ],\n",
       "       [6.655, 1.   ],\n",
       "       [6.398, 1.   ],\n",
       "       [5.012, 1.   ],\n",
       "       [5.605, 1.   ],\n",
       "       [6.565, 1.   ],\n",
       "       [5.604, 1.   ],\n",
       "       [6.606, 1.   ],\n",
       "       [6.595, 1.   ],\n",
       "       [6.12 , 1.   ],\n",
       "       [7.203, 1.   ],\n",
       "       [6.726, 1.   ],\n",
       "       [7.412, 1.   ],\n",
       "       [6.101, 1.   ],\n",
       "       [6.794, 1.   ],\n",
       "       [6.701, 1.   ],\n",
       "       [7.249, 1.   ],\n",
       "       [5.856, 1.   ],\n",
       "       [6.482, 1.   ],\n",
       "       [6.635, 1.   ],\n",
       "       [5.875, 1.   ],\n",
       "       [7.489, 1.   ],\n",
       "       [6.103, 1.   ],\n",
       "       [6.968, 1.   ],\n",
       "       [8.247, 1.   ],\n",
       "       [4.519, 1.   ],\n",
       "       [5.878, 1.   ],\n",
       "       [6.251, 1.   ],\n",
       "       [7.185, 1.   ],\n",
       "       [6.649, 1.   ],\n",
       "       [5.757, 1.   ],\n",
       "       [6.474, 1.   ],\n",
       "       [6.618, 1.   ],\n",
       "       [6.674, 1.   ],\n",
       "       [6.545, 1.   ],\n",
       "       [6.29 , 1.   ],\n",
       "       [7.47 , 1.   ],\n",
       "       [6.593, 1.   ],\n",
       "       [7.333, 1.   ],\n",
       "       [6.212, 1.   ],\n",
       "       [6.968, 1.   ],\n",
       "       [6.372, 1.   ],\n",
       "       [5.822, 1.   ],\n",
       "       [6.174, 1.   ],\n",
       "       [6.232, 1.   ],\n",
       "       [7.802, 1.   ],\n",
       "       [6.317, 1.   ],\n",
       "       [6.176, 1.   ],\n",
       "       [6.434, 1.   ],\n",
       "       [5.888, 1.   ],\n",
       "       [6.341, 1.   ],\n",
       "       [6.431, 1.   ],\n",
       "       [6.642, 1.   ],\n",
       "       [6.556, 1.   ],\n",
       "       [6.433, 1.   ],\n",
       "       [5.891, 1.   ],\n",
       "       [6.563, 1.   ],\n",
       "       [6.616, 1.   ],\n",
       "       [5.741, 1.   ],\n",
       "       [5.277, 1.   ],\n",
       "       [4.926, 1.   ],\n",
       "       [5.414, 1.   ],\n",
       "       [6.245, 1.   ],\n",
       "       [6.229, 1.   ],\n",
       "       [5.913, 1.   ],\n",
       "       [7.691, 1.   ],\n",
       "       [7.267, 1.   ],\n",
       "       [3.863, 1.   ],\n",
       "       [5.349, 1.   ],\n",
       "       [6.833, 1.   ],\n",
       "       [5.412, 1.   ],\n",
       "       [6.852, 1.   ],\n",
       "       [7.088, 1.   ],\n",
       "       [4.963, 1.   ],\n",
       "       [7.148, 1.   ],\n",
       "       [6.195, 1.   ],\n",
       "       [6.657, 1.   ],\n",
       "       [6.115, 1.   ],\n",
       "       [6.326, 1.   ],\n",
       "       [5.88 , 1.   ],\n",
       "       [5.404, 1.   ],\n",
       "       [6.169, 1.   ],\n",
       "       [6.86 , 1.   ],\n",
       "       [5.935, 1.   ],\n",
       "       [5.304, 1.   ],\n",
       "       [6.951, 1.   ],\n",
       "       [6.108, 1.   ],\n",
       "       [6.495, 1.   ],\n",
       "       [7.014, 1.   ],\n",
       "       [8.704, 1.   ],\n",
       "       [6.453, 1.   ],\n",
       "       [5.841, 1.   ],\n",
       "       [5.889, 1.   ],\n",
       "       [6.009, 1.   ],\n",
       "       [4.138, 1.   ],\n",
       "       [6.431, 1.   ],\n",
       "       [4.973, 1.   ],\n",
       "       [6.957, 1.   ],\n",
       "       [7.765, 1.   ],\n",
       "       [6.164, 1.   ],\n",
       "       [5.859, 1.   ],\n",
       "       [5.857, 1.   ],\n",
       "       [6.219, 1.   ],\n",
       "       [5.803, 1.   ],\n",
       "       [7.875, 1.   ],\n",
       "       [5.708, 1.   ],\n",
       "       [7.274, 1.   ],\n",
       "       [6.579, 1.   ],\n",
       "       [6.209, 1.   ],\n",
       "       [5.818, 1.   ],\n",
       "       [6.03 , 1.   ],\n",
       "       [6.635, 1.   ],\n",
       "       [6.871, 1.   ],\n",
       "       [5.879, 1.   ],\n",
       "       [6.047, 1.   ],\n",
       "       [5.693, 1.   ],\n",
       "       [5.794, 1.   ],\n",
       "       [6.604, 1.   ],\n",
       "       [5.926, 1.   ],\n",
       "       [5.933, 1.   ],\n",
       "       [7.416, 1.   ],\n",
       "       [6.249, 1.   ],\n",
       "       [6.112, 1.   ],\n",
       "       [5.399, 1.   ],\n",
       "       [6.728, 1.   ],\n",
       "       [8.04 , 1.   ],\n",
       "       [6.794, 1.   ],\n",
       "       [5.95 , 1.   ],\n",
       "       [6.211, 1.   ],\n",
       "       [6.897, 1.   ],\n",
       "       [6.77 , 1.   ],\n",
       "       [6.415, 1.   ],\n",
       "       [6.127, 1.   ],\n",
       "       [6.383, 1.   ],\n",
       "       [6.152, 1.   ],\n",
       "       [6.193, 1.   ],\n",
       "       [5.   , 1.   ],\n",
       "       [6.525, 1.   ],\n",
       "       [6.842, 1.   ],\n",
       "       [5.759, 1.   ],\n",
       "       [5.747, 1.   ],\n",
       "       [7.645, 1.   ],\n",
       "       [6.216, 1.   ],\n",
       "       [6.404, 1.   ],\n",
       "       [7.287, 1.   ],\n",
       "       [6.326, 1.   ],\n",
       "       [6.266, 1.   ],\n",
       "       [5.871, 1.   ],\n",
       "       [6.538, 1.   ],\n",
       "       [7.52 , 1.   ],\n",
       "       [6.021, 1.   ],\n",
       "       [5.968, 1.   ],\n",
       "       [5.96 , 1.   ],\n",
       "       [5.834, 1.   ],\n",
       "       [7.147, 1.   ],\n",
       "       [6.142, 1.   ],\n",
       "       [6.121, 1.   ],\n",
       "       [6.546, 1.   ],\n",
       "       [6.376, 1.   ],\n",
       "       [6.345, 1.   ],\n",
       "       [6.004, 1.   ],\n",
       "       [5.961, 1.   ],\n",
       "       [6.426, 1.   ],\n",
       "       [5.837, 1.   ],\n",
       "       [6.951, 1.   ],\n",
       "       [5.914, 1.   ],\n",
       "       [6.454, 1.   ],\n",
       "       [6.037, 1.   ],\n",
       "       [6.152, 1.   ],\n",
       "       [5.951, 1.   ],\n",
       "       [6.006, 1.   ],\n",
       "       [5.966, 1.   ],\n",
       "       [5.787, 1.   ],\n",
       "       [6.25 , 1.   ],\n",
       "       [5.565, 1.   ],\n",
       "       [6.405, 1.   ],\n",
       "       [5.572, 1.   ],\n",
       "       [6.202, 1.   ],\n",
       "       [5.757, 1.   ],\n",
       "       [6.625, 1.   ],\n",
       "       [5.186, 1.   ],\n",
       "       [6.065, 1.   ],\n",
       "       [5.456, 1.   ],\n",
       "       [6.092, 1.   ],\n",
       "       [6.014, 1.   ],\n",
       "       [6.319, 1.   ],\n",
       "       [6.167, 1.   ],\n",
       "       [6.086, 1.   ],\n",
       "       [6.145, 1.   ],\n",
       "       [6.395, 1.   ],\n",
       "       [6.552, 1.   ],\n",
       "       [6.982, 1.   ],\n",
       "       [6.066, 1.   ],\n",
       "       [5.569, 1.   ],\n",
       "       [6.43 , 1.   ],\n",
       "       [6.417, 1.   ],\n",
       "       [6.405, 1.   ],\n",
       "       [6.417, 1.   ],\n",
       "       [5.036, 1.   ],\n",
       "       [6.631, 1.   ],\n",
       "       [6.064, 1.   ],\n",
       "       [6.051, 1.   ],\n",
       "       [6.575, 1.   ],\n",
       "       [8.78 , 1.   ],\n",
       "       [6.619, 1.   ],\n",
       "       [5.79 , 1.   ],\n",
       "       [5.888, 1.   ],\n",
       "       [5.608, 1.   ],\n",
       "       [6.854, 1.   ],\n",
       "       [5.852, 1.   ],\n",
       "       [6.144, 1.   ],\n",
       "       [6.096, 1.   ],\n",
       "       [4.903, 1.   ],\n",
       "       [6.251, 1.   ],\n",
       "       [5.599, 1.   ],\n",
       "       [6.461, 1.   ],\n",
       "       [5.868, 1.   ],\n",
       "       [5.762, 1.   ],\n",
       "       [6.13 , 1.   ],\n",
       "       [6.54 , 1.   ],\n",
       "       [6.163, 1.   ],\n",
       "       [6.153, 1.   ],\n",
       "       [5.56 , 1.   ],\n",
       "       [6.167, 1.   ],\n",
       "       [6.242, 1.   ],\n",
       "       [6.879, 1.   ],\n",
       "       [5.884, 1.   ],\n",
       "       [5.983, 1.   ],\n",
       "       [6.393, 1.   ],\n",
       "       [4.628, 1.   ],\n",
       "       [6.975, 1.   ],\n",
       "       [4.906, 1.   ],\n",
       "       [6.027, 1.   ],\n",
       "       [5.304, 1.   ],\n",
       "       [6.425, 1.   ],\n",
       "       [5.713, 1.   ],\n",
       "       [5.663, 1.   ],\n",
       "       [5.713, 1.   ],\n",
       "       [6.495, 1.   ],\n",
       "       [6.51 , 1.   ],\n",
       "       [7.178, 1.   ],\n",
       "       [6.015, 1.   ],\n",
       "       [7.155, 1.   ],\n",
       "       [5.966, 1.   ],\n",
       "       [6.254, 1.   ],\n",
       "       [6.209, 1.   ],\n",
       "       [6.436, 1.   ],\n",
       "       [6.826, 1.   ],\n",
       "       [5.701, 1.   ],\n",
       "       [6.376, 1.   ],\n",
       "       [6.485, 1.   ],\n",
       "       [6.009, 1.   ],\n",
       "       [6.162, 1.   ],\n",
       "       [5.957, 1.   ],\n",
       "       [6.333, 1.   ],\n",
       "       [6.03 , 1.   ],\n",
       "       [7.929, 1.   ],\n",
       "       [6.127, 1.   ],\n",
       "       [5.976, 1.   ],\n",
       "       [5.682, 1.   ],\n",
       "       [6.229, 1.   ],\n",
       "       [6.567, 1.   ],\n",
       "       [6.49 , 1.   ],\n",
       "       [6.14 , 1.   ],\n",
       "       [6.861, 1.   ],\n",
       "       [6.516, 1.   ],\n",
       "       [6.312, 1.   ],\n",
       "       [6.122, 1.   ],\n",
       "       [6.069, 1.   ],\n",
       "       [5.627, 1.   ],\n",
       "       [6.23 , 1.   ],\n",
       "       [5.854, 1.   ],\n",
       "       [6.943, 1.   ],\n",
       "       [6.471, 1.   ],\n",
       "       [6.02 , 1.   ],\n",
       "       [7.61 , 1.   ],\n",
       "       [5.536, 1.   ],\n",
       "       [6.421, 1.   ],\n",
       "       [6.406, 1.   ],\n",
       "       [5.731, 1.   ],\n",
       "       [6.358, 1.   ],\n",
       "       [5.404, 1.   ],\n",
       "       [6.108, 1.   ],\n",
       "       [6.511, 1.   ],\n",
       "       [5.854, 1.   ],\n",
       "       [7.831, 1.   ],\n",
       "       [6.297, 1.   ],\n",
       "       [6.012, 1.   ],\n",
       "       [5.924, 1.   ],\n",
       "       [4.97 , 1.   ],\n",
       "       [5.887, 1.   ],\n",
       "       [5.936, 1.   ],\n",
       "       [6.816, 1.   ],\n",
       "       [6.162, 1.   ],\n",
       "       [5.602, 1.   ],\n",
       "       [5.019, 1.   ],\n",
       "       [7.163, 1.   ],\n",
       "       [5.87 , 1.   ],\n",
       "       [8.398, 1.   ],\n",
       "       [6.629, 1.   ],\n",
       "       [5.597, 1.   ],\n",
       "       [6.481, 1.   ],\n",
       "       [5.786, 1.   ],\n",
       "       [6.38 , 1.   ],\n",
       "       [6.302, 1.   ],\n",
       "       [5.981, 1.   ],\n",
       "       [5.454, 1.   ],\n",
       "       [6.456, 1.   ],\n",
       "       [8.069, 1.   ],\n",
       "       [6.182, 1.   ],\n",
       "       [8.337, 1.   ],\n",
       "       [8.375, 1.   ],\n",
       "       [7.82 , 1.   ],\n",
       "       [5.531, 1.   ],\n",
       "       [5.783, 1.   ],\n",
       "       [6.739, 1.   ],\n",
       "       [7.107, 1.   ],\n",
       "       [5.965, 1.   ],\n",
       "       [5.856, 1.   ],\n",
       "       [7.007, 1.   ],\n",
       "       [7.185, 1.   ],\n",
       "       [5.877, 1.   ],\n",
       "       [6.678, 1.   ],\n",
       "       [5.67 , 1.   ],\n",
       "       [6.226, 1.   ],\n",
       "       [6.849, 1.   ],\n",
       "       [7.206, 1.   ],\n",
       "       [6.373, 1.   ],\n",
       "       [6.727, 1.   ]])"
      ]
     },
     "execution_count": 32,
     "metadata": {},
     "output_type": "execute_result"
    }
   ],
   "source": [
    "X_train "
   ]
  },
  {
   "cell_type": "code",
   "execution_count": 33,
   "metadata": {},
   "outputs": [
    {
     "data": {
      "text/plain": [
       "LinearRegression(copy_X=True, fit_intercept=True, n_jobs=1, normalize=False)"
      ]
     },
     "execution_count": 33,
     "metadata": {},
     "output_type": "execute_result"
    }
   ],
   "source": [
    "lreg.fit(X_train, Y_train)"
   ]
  },
  {
   "cell_type": "code",
   "execution_count": 37,
   "metadata": {},
   "outputs": [],
   "source": [
    "pred_train = lreg.predict(X_train)\n",
    "pred_test = lreg.predict(X_test)"
   ]
  },
  {
   "cell_type": "code",
   "execution_count": 40,
   "metadata": {},
   "outputs": [
    {
     "name": "stdout",
     "output_type": "stream",
     "text": [
      "44.93025776109232\n",
      "39.974838081215765\n"
     ]
    }
   ],
   "source": [
    "print( np.mean((Y_train- pred_train)**2))\n",
    "print( np.mean((Y_test- pred_test)**2))"
   ]
  },
  {
   "cell_type": "code",
   "execution_count": 52,
   "metadata": {},
   "outputs": [
    {
     "data": {
      "text/plain": [
       "Text(0.5,1,'Residual Plot')"
      ]
     },
     "execution_count": 52,
     "metadata": {},
     "output_type": "execute_result"
    },
    {
     "data": {
      "image/png": "[encoded data removed]",
      "text/plain": [
       "<matplotlib.figure.Figure at 0x24035a803c8>"
      ]
     },
     "metadata": {},
     "output_type": "display_data"
    }
   ],
   "source": [
    "train = plt.scatter(pred_train, (pred_train - Y_train), c='b', alpha= .5)\n",
    "test =  plt.scatter(pred_test, (pred_test - Y_test), c='r', alpha= .5)\n",
    "plt.hlines(y=0, xmin= -10, xmax =50)\n",
    "plt.legend((train,test), (\"Trianing\", \"test\"), loc = \"lower left\")\n",
    "plt.title(\"Residual Plot\")"
   ]
  },
  {
   "cell_type": "code",
   "execution_count": null,
   "metadata": {
    "collapsed": true
   },
   "outputs": [],
   "source": []
  }
 ],
 "metadata": {
  "kernelspec": {
   "display_name": "Python 3",
   "language": "python",
   "name": "python3"
  },
  "language_info": {
   "codemirror_mode": {
    "name": "ipython",
    "version": 3
   },
   "file_extension": ".py",
   "mimetype": "text/x-python",
   "name": "python",
   "nbconvert_exporter": "python",
   "pygments_lexer": "ipython3",
   "version": "3.6.3"
  }
 },
 "nbformat": 4,
 "nbformat_minor": 2
}
